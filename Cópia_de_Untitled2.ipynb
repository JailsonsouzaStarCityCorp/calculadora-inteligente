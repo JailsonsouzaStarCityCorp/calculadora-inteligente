{
  "nbformat": 4,
  "nbformat_minor": 0,
  "metadata": {
    "colab": {
      "provenance": [],
      "authorship_tag": "ABX9TyPuuLCj8p93OHENTFW295t2",
      "include_colab_link": true
    },
    "kernelspec": {
      "name": "python3",
      "display_name": "Python 3"
    },
    "language_info": {
      "name": "python"
    }
  },
  "cells": [
    {
      "cell_type": "markdown",
      "metadata": {
        "id": "view-in-github",
        "colab_type": "text"
      },
      "source": [
        "<a href=\"https://colab.research.google.com/github/JailsonsouzaStarCityCorp/calculadora-inteligente/blob/main/C%C3%B3pia_de_Untitled2.ipynb\" target=\"_parent\"><img src=\"https://colab.research.google.com/assets/colab-badge.svg\" alt=\"Open In Colab\"/></a>"
      ]
    },
    {
      "cell_type": "code",
      "execution_count": null,
      "metadata": {
        "colab": {
          "base_uri": "https://localhost:8080/"
        },
        "id": "7SHJLKHhWYYV",
        "outputId": "54d2293e-94bd-4ffc-e80a-b54a8e767146"
      },
      "outputs": [
        {
          "output_type": "stream",
          "name": "stdout",
          "text": [
            "=== Calculadora inteligente (Jailson) ===\n",
            "Digite o primeiro número: 323\n",
            "Digite o segundo número: 33\n",
            "\n",
            "Escolha a operação:\n",
            "1 - Soma (+)\n",
            "2 - Subtração (-)\n",
            "3 - Multiplicação (*)\n",
            "4 - Divisão (/)\n",
            "Digite o número da operação desejada: 2\n",
            "\n",
            "Resultado: 323.0 - 33.0 = 290.0\n",
            "\n",
            "Deseja realizar outra operação? (s/n): n\n",
            "Encerrando a calculadora... Obrigado por Ultilizar nosso serviço!\n"
          ]
        }
      ],
      "source": [
        "#calculadora inteligente\n",
        "\n",
        "while True:\n",
        "    print(\"=== Calculadora inteligente (Jailson) ===\")\n",
        "\n",
        "    # Entrada de dados do usuário\n",
        "    num1 = float(input(\"Digite o primeiro número: \"))\n",
        "    num2 = float(input(\"Digite o segundo número: \"))\n",
        "\n",
        "    # Menu de operações\n",
        "    print(\"\\nEscolha a operação:\")\n",
        "    print(\"1 - Soma (+)\")\n",
        "    print(\"2 - Subtração (-)\")\n",
        "    print(\"3 - Multiplicação (*)\")\n",
        "    print(\"4 - Divisão (/)\")\n",
        "\n",
        "    opcao = input(\"Digite o número da operação desejada: \")\n",
        "\n",
        "    # Condicionais para realizar a operação\n",
        "    if opcao == \"1\":\n",
        "        resultado = num1 + num2\n",
        "        print(f\"\\nResultado: {num1} + {num2} = {resultado}\")\n",
        "    elif opcao == \"2\":\n",
        "        resultado = num1 - num2\n",
        "        print(f\"\\nResultado: {num1} - {num2} = {resultado}\")\n",
        "    elif opcao == \"3\":\n",
        "        resultado = num1 * num2\n",
        "        print(f\"\\nResultado: {num1} * {num2} = {resultado}\")\n",
        "    elif opcao == \"4\":\n",
        "        if num2 != 0:\n",
        "            resultado = num1 / num2\n",
        "            print(f\"\\nResultado: {num1} / {num2} = {resultado}\")\n",
        "        else:\n",
        "            print(\"\\nErro: divisão por zero não é permitida!\")\n",
        "    else:\n",
        "        print(\"\\nOpção inválida!\")\n",
        "\n",
        "    # Perguntar se deseja continuar\n",
        "    repetir = input(\"\\nDeseja realizar outra operação? (s/n): \")\n",
        "    if repetir.lower() != \"s\":\n",
        "        print(\"Encerrando a calculadora... Obrigado por ultilizar nosso serviço!\")\n",
        "        break"
      ]
    }
  ]
}